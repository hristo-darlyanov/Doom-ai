{
 "cells": [
  {
   "cell_type": "code",
   "execution_count": 1,
   "metadata": {},
   "outputs": [],
   "source": [
    "#%pip install --upgrade --force-reinstall torch torchvision torchaudio --index-url https://download.pytorch.org/whl/cu118 --user"
   ]
  },
  {
   "cell_type": "code",
   "execution_count": 39,
   "metadata": {},
   "outputs": [],
   "source": [
    "from vizdoom import *\n",
    "import gym\n",
    "from gym import Env\n",
    "from gym.spaces import Box, Discrete\n",
    "import cv2\n",
    "import random\n",
    "import time\n",
    "import numpy as np\n",
    "import os\n",
    "from matplotlib import pyplot as plt\n",
    "from stable_baselines3 import PPO\n",
    "from stable_baselines3.common import env_checker\n",
    "from stable_baselines3.common.callbacks import BaseCallback\n",
    "from stable_baselines3.common.evaluation import evaluate_policy"
   ]
  },
  {
   "cell_type": "code",
   "execution_count": 3,
   "metadata": {},
   "outputs": [],
   "source": [
    "game = DoomGame()\n",
    "game.load_config('github/ViZDoom/scenarios/basic.cfg')\n",
    "game.init()"
   ]
  },
  {
   "cell_type": "code",
   "execution_count": 4,
   "metadata": {},
   "outputs": [
    {
     "name": "stdout",
     "output_type": "stream",
     "text": [
      "reward: -1.0\n",
      "reward: -1.0\n",
      "reward: -1.0\n",
      "reward: -1.0\n",
      "reward: -1.0\n",
      "reward: -1.0\n",
      "reward: -6.0\n",
      "reward: -1.0\n",
      "reward: -1.0\n",
      "reward: -1.0\n",
      "reward: -1.0\n",
      "reward: -1.0\n",
      "reward: -1.0\n",
      "reward: -1.0\n",
      "reward: -1.0\n",
      "reward: -1.0\n",
      "reward: -1.0\n",
      "reward: -1.0\n",
      "reward: -1.0\n",
      "reward: -1.0\n",
      "reward: -6.0\n",
      "reward: -1.0\n",
      "reward: -1.0\n",
      "reward: -1.0\n",
      "reward: -1.0\n",
      "reward: -1.0\n",
      "reward: -1.0\n",
      "reward: -1.0\n",
      "reward: -1.0\n",
      "reward: -1.0\n",
      "reward: -1.0\n",
      "reward: -1.0\n",
      "reward: -1.0\n",
      "reward: -1.0\n",
      "reward: -1.0\n",
      "reward: -1.0\n",
      "reward: -1.0\n",
      "reward: -1.0\n",
      "reward: -1.0\n",
      "reward: -1.0\n",
      "reward: -6.0\n",
      "reward: -1.0\n",
      "reward: -1.0\n",
      "reward: -1.0\n",
      "reward: -1.0\n",
      "reward: -1.0\n",
      "reward: -1.0\n",
      "reward: -1.0\n",
      "reward: -1.0\n",
      "reward: -1.0\n",
      "reward: -1.0\n",
      "reward: -1.0\n",
      "reward: -1.0\n",
      "reward: -1.0\n",
      "reward: -1.0\n",
      "reward: -1.0\n",
      "reward: -1.0\n",
      "reward: -1.0\n",
      "reward: -1.0\n",
      "reward: -6.0\n",
      "reward: -1.0\n",
      "reward: -1.0\n",
      "reward: -1.0\n",
      "reward: -1.0\n",
      "reward: -1.0\n",
      "reward: -1.0\n",
      "reward: -1.0\n",
      "reward: -1.0\n",
      "reward: -1.0\n",
      "reward: -1.0\n",
      "reward: -1.0\n",
      "reward: -1.0\n",
      "reward: -1.0\n",
      "reward: -1.0\n",
      "reward: -1.0\n",
      "reward: -1.0\n",
      "reward: -1.0\n",
      "reward: -1.0\n",
      "reward: -1.0\n",
      "reward: -6.0\n",
      "reward: -1.0\n",
      "reward: -1.0\n",
      "reward: -1.0\n",
      "reward: -1.0\n",
      "reward: -1.0\n",
      "reward: -1.0\n",
      "reward: -1.0\n",
      "reward: -1.0\n",
      "reward: -1.0\n",
      "reward: -1.0\n",
      "reward: -1.0\n",
      "reward: -1.0\n",
      "reward: -1.0\n",
      "reward: 100.0\n",
      "reward: -1.0\n",
      "Result: -19.0\n"
     ]
    }
   ],
   "source": [
    "for episode in range(1):\n",
    "    game.new_episode()\n",
    "    while not game.is_episode_finished():\n",
    "        state = game.get_state()\n",
    "        img = state.screen_buffer\n",
    "        info = state.game_variables\n",
    "        reward = game.make_action(random.choice(np.identity(3, dtype=np.uint8)))\n",
    "        print(f'reward: {reward}')\n",
    "        time.sleep(0.02)\n",
    "    print(f\"Result: {game.get_total_reward()}\")\n",
    "game.close()"
   ]
  },
  {
   "cell_type": "code",
   "execution_count": 25,
   "metadata": {},
   "outputs": [],
   "source": [
    "class VizDoomGym(Env):\n",
    "    def __init__(self, render=False):\n",
    "        super().__init__()\n",
    "        self.game = DoomGame()\n",
    "        self.game.load_config('github/ViZDoom/scenarios/basic.cfg')\n",
    "        \n",
    "        if render == False:\n",
    "            self.game.set_window_visible(False)\n",
    "        else:\n",
    "            self.game.set_window_visible(True)\n",
    "        self.game.init()\n",
    "        \n",
    "        self.observation_space = Box(low=0, high=255, shape=(100, 160, 1), dtype=np.uint8)\n",
    "        self.action_space = Discrete(3)\n",
    "        \n",
    "    def step(self, action):\n",
    "        actions = np.identity(3, dtype=np.uint8)\n",
    "        reward = self.game.make_action(actions[action])\n",
    "        \n",
    "        if self.game.get_state():\n",
    "            state = self.game.get_state().screen_buffer\n",
    "            state = self.grayscale(state)\n",
    "            ammo = self.game.get_state().game_variables[0]\n",
    "            info = ammo\n",
    "        else:\n",
    "            state = np.zeros(self.observation_space.shape)\n",
    "            info = 0\n",
    "        \n",
    "        info = {'ammo': info}\n",
    "        done = self.game.is_episode_finished()\n",
    "        \n",
    "        return state, reward, done, info\n",
    "    \n",
    "    def render():\n",
    "        pass\n",
    "    \n",
    "    def reset(self):\n",
    "        self.game.new_episode()\n",
    "        state = self.game.get_state().screen_buffer\n",
    "        return self.grayscale(state)\n",
    "    \n",
    "    def grayscale(self, observation):\n",
    "        gray = cv2.cvtColor(np.moveaxis(observation, 0, -1), cv2.COLOR_BGR2GRAY)\n",
    "        resize = cv2.resize(gray, (160,  100), interpolation=cv2.INTER_CUBIC)\n",
    "        state = np.reshape(resize, (100, 160, 1))\n",
    "        return state\n",
    "    \n",
    "    def close(self):\n",
    "        self.game.close()"
   ]
  },
  {
   "cell_type": "code",
   "execution_count": 26,
   "metadata": {},
   "outputs": [],
   "source": [
    "class TrainAndLoggingCallback(BaseCallback):\n",
    "    def __init__(self, check_freq, save_path, verbose=1):\n",
    "        super(TrainAndLoggingCallback, self).__init__(verbose)\n",
    "        self.check_freq = check_freq\n",
    "        self.save_path = save_path\n",
    "\n",
    "    def _init_callback(self):\n",
    "        if self.save_path is not None:\n",
    "            os.makedirs(self.save_path, exist_ok=True)\n",
    "        \n",
    "    def _on_step(self):\n",
    "        if self.n_calls % self.check_freq == 0:\n",
    "            model_path = os.path.join(self.save_path, 'best_model_{}'.format(self.n_calls))\n",
    "            self.model.save(model_path)"
   ]
  },
  {
   "cell_type": "code",
   "execution_count": 27,
   "metadata": {},
   "outputs": [],
   "source": [
    "env = VizDoomGym()"
   ]
  },
  {
   "cell_type": "code",
   "execution_count": 28,
   "metadata": {},
   "outputs": [],
   "source": [
    "env_checker.check_env(env)"
   ]
  },
  {
   "cell_type": "code",
   "execution_count": 29,
   "metadata": {},
   "outputs": [],
   "source": [
    "#plt.imshow(cv2.cvtColor(env.reset(), cv2.COLOR_BGR2RGB))"
   ]
  },
  {
   "cell_type": "code",
   "execution_count": 30,
   "metadata": {},
   "outputs": [],
   "source": [
    "CHECKPOINT_DIR = './train/basic_train'\n",
    "LOG_DIR = './logs/basic_log'"
   ]
  },
  {
   "cell_type": "code",
   "execution_count": 31,
   "metadata": {},
   "outputs": [],
   "source": [
    "callback = TrainAndLoggingCallback(10000, CHECKPOINT_DIR)"
   ]
  },
  {
   "cell_type": "code",
   "execution_count": 36,
   "metadata": {},
   "outputs": [
    {
     "name": "stdout",
     "output_type": "stream",
     "text": [
      "Using cuda device\n",
      "Wrapping the env with a `Monitor` wrapper\n",
      "Wrapping the env in a DummyVecEnv.\n",
      "Wrapping the env in a VecTransposeImage.\n"
     ]
    }
   ],
   "source": [
    "model = PPO('CnnPolicy', env=env, verbose=1, tensorboard_log=LOG_DIR, learning_rate=0.0001, n_steps=2048)"
   ]
  },
  {
   "cell_type": "code",
   "execution_count": 38,
   "metadata": {},
   "outputs": [
    {
     "name": "stdout",
     "output_type": "stream",
     "text": [
      "Logging to ./logs/basic_log\\PPO_10\n",
      "---------------------------------\n",
      "| rollout/           |          |\n",
      "|    ep_len_mean     | 128      |\n",
      "|    ep_rew_mean     | -90      |\n",
      "| time/              |          |\n",
      "|    fps             | 62       |\n",
      "|    iterations      | 1        |\n",
      "|    time_elapsed    | 32       |\n",
      "|    total_timesteps | 2048     |\n",
      "---------------------------------\n"
     ]
    },
    {
     "data": {
      "text/plain": [
       "<stable_baselines3.ppo.ppo.PPO at 0x1690b7997e0>"
      ]
     },
     "execution_count": 38,
     "metadata": {},
     "output_type": "execute_result"
    }
   ],
   "source": [
    "model.learn(total_timesteps=1, callback=callback)"
   ]
  },
  {
   "cell_type": "code",
   "execution_count": 43,
   "metadata": {},
   "outputs": [],
   "source": [
    "#Probably the best model due to some strange training on the higher step models\n",
    "model = PPO.load('train/basic_train/best_model_70000')"
   ]
  },
  {
   "cell_type": "code",
   "execution_count": 41,
   "metadata": {},
   "outputs": [],
   "source": [
    "env = VizDoomGym(render=True)"
   ]
  },
  {
   "cell_type": "code",
   "execution_count": 46,
   "metadata": {},
   "outputs": [],
   "source": [
    "mean_reward, _ = evaluate_policy(model, env, n_eval_episodes=20)"
   ]
  },
  {
   "cell_type": "code",
   "execution_count": 47,
   "metadata": {},
   "outputs": [
    {
     "data": {
      "text/plain": [
       "87.5"
      ]
     },
     "execution_count": 47,
     "metadata": {},
     "output_type": "execute_result"
    }
   ],
   "source": [
    "mean_reward"
   ]
  },
  {
   "cell_type": "code",
   "execution_count": 49,
   "metadata": {},
   "outputs": [
    {
     "name": "stdout",
     "output_type": "stream",
     "text": [
      "episode - 1 || score - 95.0\n",
      "episode - 2 || score - 95.0\n",
      "episode - 3 || score - 92.0\n",
      "episode - 4 || score - 95.0\n",
      "episode - 5 || score - 95.0\n",
      "episode - 6 || score - -53.0\n",
      "episode - 7 || score - 86.0\n",
      "episode - 8 || score - 95.0\n",
      "episode - 9 || score - 53.0\n",
      "episode - 10 || score - 94.0\n"
     ]
    }
   ],
   "source": [
    "episodes = 10\n",
    "for n in range(1, episodes+1):\n",
    "    obs = env.reset()\n",
    "    score = 0\n",
    "    done = False\n",
    "    while not done:\n",
    "        action = model.predict(obs)\n",
    "        obs, reward, done, info = env.step(action[0])\n",
    "        score+=reward\n",
    "        time.sleep(0.05)\n",
    "    print(f'episode - {n} || score - {score}')"
   ]
  },
  {
   "cell_type": "code",
   "execution_count": 50,
   "metadata": {},
   "outputs": [],
   "source": [
    "env.close()"
   ]
  }
 ],
 "metadata": {
  "kernelspec": {
   "display_name": "Python 3",
   "language": "python",
   "name": "python3"
  },
  "language_info": {
   "codemirror_mode": {
    "name": "ipython",
    "version": 3
   },
   "file_extension": ".py",
   "mimetype": "text/x-python",
   "name": "python",
   "nbconvert_exporter": "python",
   "pygments_lexer": "ipython3",
   "version": "3.10.10"
  },
  "orig_nbformat": 4
 },
 "nbformat": 4,
 "nbformat_minor": 2
}
